{
 "cells": [
  {
   "cell_type": "code",
   "execution_count": 3,
   "metadata": {},
   "outputs": [],
   "source": [
    "import numpy as np\n",
    "from collections import deque"
   ]
  },
  {
   "cell_type": "code",
   "execution_count": 4,
   "metadata": {},
   "outputs": [],
   "source": [
    "def gaussElimination(A,b):\n",
    "    rows = A.shape[0]\n",
    "    columns = A.shape[1]\n",
    "    print(rows,columns)\n",
    "    for i in range(columns - 1):\n",
    "        for j in range(i+1,rows):\n",
    "            coef = A[j][i]/A[i][i]\n",
    "            A[j] = A[j]-coef*A[i]\n",
    "            b[j]=b[j]-coef*b[i]\n",
    "    print(A)\n",
    "    print(b)\n",
    "    if b[len(b)-1] != A[len(b)-1][len(b)-1]:\n",
    "        print(\"NO SOLUTION\")\n",
    "        return\n",
    "    sol = [0]\n",
    "    if b[len(b)-1] != 0 or A[len(b)-1][len(b)-1] != 0:\n",
    "        sol = [1,1,b[len(b)-1]/A[len(b)-1][len(b)-1]]\n",
    "    print(sol)\n",
    "    for i in reversed(range(len(b) - 1)):\n",
    "        summation = 0\n",
    "        sol_index = len(sol)-1\n",
    "        for j in reversed(range(i,len(b))):\n",
    "            summation += sol[sol_index]*A[i][j]\n",
    "            sol_index -=1\n",
    "        sol = [(b[i]-summation)/A[i][i]] + sol\n",
    "    print(\"Ratkaisu\")\n",
    "    for i in range(len(sol)):\n",
    "        print(\"x_\"+str((i+1)) + \" \" + str(sol[i]))"
   ]
  },
  {
   "cell_type": "code",
   "execution_count": 5,
   "metadata": {},
   "outputs": [
    {
     "name": "stdout",
     "output_type": "stream",
     "text": [
      "3 3\n",
      "[[ 1  2  3]\n",
      " [ 0 -3 -6]\n",
      " [ 0  0  0]]\n",
      "[ 1 -2  0]\n",
      "[0]\n",
      "Ratkaisu\n",
      "x_1 -0.33333333333333326\n",
      "x_2 0.6666666666666666\n",
      "x_3 0\n"
     ]
    }
   ],
   "source": [
    "gaussElimination(np.array([[1,2,3],[4,5,6],[7,8,9]]), np.array([1,2,3]))"
   ]
  },
  {
   "cell_type": "code",
   "execution_count": 117,
   "metadata": {},
   "outputs": [],
   "source": [
    "def LUdecomposition(A,b):\n",
    "    print(A)\n",
    "    L = np.zeros(shape=(A.shape[0],A.shape[0]))\n",
    "    U = np.zeros(shape=(A.shape[0],A.shape[0]))\n",
    "    for k in range(A.shape[0]-1):##iteroidaan sarakkeiden yli\n",
    "        for i in range(k+1, A.shape[0]):##iteroidaan rivien yli\n",
    "            coef = A[i][k]/A[k][k]\n",
    "            A[i][k] =coef\n",
    "            for l in range(k+1, A.shape[0]):\n",
    "                A[i][l] = A[i][l]-coef*A[k][l]\n",
    "    for i in range(A.shape[0]):\n",
    "        for j in range(A.shape[0]):\n",
    "            if j == i:\n",
    "                L[i][i] = 1\n",
    "                break\n",
    "            L[i][j] = A[i][j]\n",
    "    for i in reversed(range(A.shape[0])):\n",
    "        for j in reversed(range(A.shape[0])):\n",
    "            if j == i:\n",
    "                U[i][j] = A[i][j]\n",
    "                break\n",
    "            U[i][j] = A[i][j]\n",
    "    print(\"A:\",A)\n",
    "    print(\"L:\",L)\n",
    "    print(\"U:\",U)\n",
    "    return L"
   ]
  },
  {
   "cell_type": "code",
   "execution_count": 115,
   "metadata": {},
   "outputs": [
    {
     "name": "stdout",
     "output_type": "stream",
     "text": [
      "[[1 2 3]\n",
      " [3 5 2]\n",
      " [4 2 8]]\n",
      "A: [[ 1  2  3]\n",
      " [ 3 -1 -7]\n",
      " [ 4  6 38]]\n",
      "L: [[1. 0. 0.]\n",
      " [3. 1. 0.]\n",
      " [4. 6. 1.]]\n",
      "U: [[ 1.  2.  3.]\n",
      " [ 0. -1. -7.]\n",
      " [ 0.  0. 38.]]\n",
      "[[1 2 3]\n",
      " [4 5 6]\n",
      " [7 8 9]]\n",
      "A: [[ 1  2  3]\n",
      " [ 4 -3 -6]\n",
      " [ 7  2  0]]\n",
      "L: [[1. 0. 0.]\n",
      " [4. 1. 0.]\n",
      " [7. 2. 1.]]\n",
      "U: [[ 1.  2.  3.]\n",
      " [ 0. -3. -6.]\n",
      " [ 0.  0.  0.]]\n"
     ]
    }
   ],
   "source": [
    "LUdecomposition(np.array([[1,2,3],[3,5,2],[4,2,8]]), np.array([1,2,3]))\n",
    "LUdecomposition(np.array([[1,2,3],[4,5,6],[7,8,9]]), np.array([1,2,3]))"
   ]
  },
  {
   "cell_type": "code",
   "execution_count": 183,
   "metadata": {},
   "outputs": [],
   "source": [
    "def forward(L,b):\n",
    "    print(L)\n",
    "    sol = [0]*b.shape[0]\n",
    "    sol[0] = b[0]/L[0][0]\n",
    "    for i in range(1,L.shape[0]):\n",
    "        cache = 0\n",
    "        for j in range(i):\n",
    "            cache += L[i][j]*sol[j]\n",
    "        sol[i] = b[i]-cache/L[i][i]\n",
    "    print(sol)"
   ]
  },
  {
   "cell_type": "code",
   "execution_count": 157,
   "metadata": {},
   "outputs": [
    {
     "name": "stdout",
     "output_type": "stream",
     "text": [
      "[1.0, -2.0, 0.0]\n"
     ]
    }
   ],
   "source": [
    "forward(np.array([[1,0,0],[4,1,0],[7,2,1]]), np.array([1,2,3]))"
   ]
  },
  {
   "cell_type": "code",
   "execution_count": 201,
   "metadata": {},
   "outputs": [],
   "source": [
    "def backward(L,b):\n",
    "    sol = [0]*b.shape[0]\n",
    "    if b[len(b)-1] == L[len(b)-1][len(b)-1]:\n",
    "        sol[len(b)-1] == 0\n",
    "    else:\n",
    "        sol[len(b)-1] = b[len(b)-1]/L[len(b)-1][len(b)-1]\n",
    "    for i in reversed(range(L.shape[0]-1)):\n",
    "        cache = 0\n",
    "        for j in reversed(range(i+1, L.shape[0])):\n",
    "            cache += L[i][j]*sol[j]\n",
    "            print(L[i][j],\" \" , sol[j])\n",
    "        print(\"ES\")\n",
    "        sol[i] = (b[i]-cache)/L[i][i]\n",
    "    print(sol)"
   ]
  },
  {
   "cell_type": "code",
   "execution_count": 202,
   "metadata": {},
   "outputs": [
    {
     "name": "stdout",
     "output_type": "stream",
     "text": [
      "-6   0\n",
      "ES\n",
      "3   0\n",
      "2   0.6666666666666666\n",
      "ES\n",
      "[-0.33333333333333326, 0.6666666666666666, 0]\n"
     ]
    }
   ],
   "source": [
    "backward(np.array([[1,2,3],[0,-3,-6],[0,0,0]]), np.array([1,-2,0]))\n"
   ]
  }
 ],
 "metadata": {
  "kernelspec": {
   "display_name": "Python 3",
   "language": "python",
   "name": "python3"
  },
  "language_info": {
   "codemirror_mode": {
    "name": "ipython",
    "version": 3
   },
   "file_extension": ".py",
   "mimetype": "text/x-python",
   "name": "python",
   "nbconvert_exporter": "python",
   "pygments_lexer": "ipython3",
   "version": "3.8.5"
  }
 },
 "nbformat": 4,
 "nbformat_minor": 4
}
