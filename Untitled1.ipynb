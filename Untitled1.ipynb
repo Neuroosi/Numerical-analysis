{
 "cells": [
  {
   "cell_type": "code",
   "execution_count": 43,
   "metadata": {},
   "outputs": [],
   "source": [
    "import matplotlib.pyplot as plt"
   ]
  },
  {
   "cell_type": "code",
   "execution_count": 29,
   "metadata": {},
   "outputs": [],
   "source": [
    "##y=f(t,y), h = askelkoko, p ratkaisupiste, y_0=alkuarvo\n",
    "def euler(f,h,p,y_0):\n",
    "    t = 0 ##aika\n",
    "    y = y_0\n",
    "    while (h+t) <= p:##iteroidaan kunnes ollaan saavutettu piste...\n",
    "        y = y + h*f(t,y) ##lasketaan y_{k+1}\n",
    "        t += h ##päivitetään aikaa\n",
    "    print(\"Ratkaisu(euler) : \", y)\n",
    "def rungekutta_4th(f,h,p,y_0):\n",
    "    t = 0 ##aika\n",
    "    y = y_0\n",
    "    while (h+t) <= p:##iteroidaan kunnes ollaan saavutettu piste...\n",
    "        K_1=f(t,y)\n",
    "        K_2=f(t+0.5*h,y+h/2*K_1)\n",
    "        K_3=f(t+0.5*h,y+h/2*K_2)\n",
    "        t += h ##päivitetään aikaa\n",
    "        K_4=f(t,y+h*K_3)\n",
    "        y = y+h/6.0*(K_1+2*K_2+2*K_3+K_4)\n",
    "    print(\"Ratkaisu(4 Runge-Kutta) : \", y)  "
   ]
  },
  {
   "cell_type": "code",
   "execution_count": 30,
   "metadata": {},
   "outputs": [
    {
     "name": "stdout",
     "output_type": "stream",
     "text": [
      "Ratkaisu(euler) :  18.000043171247107\n",
      "Ratkaisu(4 Runge-Kutta) :  18.000045399929505\n"
     ]
    }
   ],
   "source": [
    "##ensin määritetään f(t,y)\n",
    "def f(t,y):\n",
    "    return 2*t-y\n",
    "euler(f,0.01,10,-1)\n",
    "rungekutta_4th(f,0.01,10,-1)"
   ]
  },
  {
   "cell_type": "code",
   "execution_count": 34,
   "metadata": {},
   "outputs": [
    {
     "name": "stdout",
     "output_type": "stream",
     "text": [
      "Ratkaisu(euler) :  0.9999999982931251\n",
      "Ratkaisu(4 Runge-Kutta) :  0.9999999979388463\n"
     ]
    }
   ],
   "source": [
    "def f(t,y):\n",
    "    return 2*y*(1-y)\n",
    "euler(f,0.01,10,1/2)\n",
    "rungekutta_4th(f,0.01,10,1/2)"
   ]
  },
  {
   "cell_type": "code",
   "execution_count": null,
   "metadata": {},
   "outputs": [],
   "source": []
  },
  {
   "cell_type": "code",
   "execution_count": null,
   "metadata": {},
   "outputs": [],
   "source": []
  },
  {
   "cell_type": "code",
   "execution_count": null,
   "metadata": {},
   "outputs": [],
   "source": []
  }
 ],
 "metadata": {
  "kernelspec": {
   "display_name": "Python 3",
   "language": "python",
   "name": "python3"
  },
  "language_info": {
   "codemirror_mode": {
    "name": "ipython",
    "version": 3
   },
   "file_extension": ".py",
   "mimetype": "text/x-python",
   "name": "python",
   "nbconvert_exporter": "python",
   "pygments_lexer": "ipython3",
   "version": "3.8.5"
  }
 },
 "nbformat": 4,
 "nbformat_minor": 4
}
